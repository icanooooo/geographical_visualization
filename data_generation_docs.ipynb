{
 "cells": [
  {
   "cell_type": "markdown",
   "metadata": {},
   "source": [
    "# **Political Voting Survey Dashboard 🌏**\n",
    "\n",
    "**Introduction**\n",
    "\n",
    "This project aims to showcase my skills in Data Visualizations and Dashboard Development with Tableau using generated dummy data with an example case in political surveys. Also, while the Visualization using Tableau are using CSV Files, due to Tableau Public Limitations, I am also going to develop an ingestion process from Generated Data to PostgreSQL for further real-time (or updated) visualizations.\n",
    "\n",
    "Due to current limitations in access data, I will generate dummy data using APIs from multiple random generators with a location in Indonesia. This project does not at all represent any political fact about any region and are artificial created for learning and skills showcasing purposes.\n",
    "\n",
    "**Tables:**\n",
    "\n",
    "- Votes (6000 Unique Values)\n",
    "    - voter_name\n",
    "    - voter_id\n",
    "    - candidate_id\n",
    "    - region_id\n",
    "- Candidate (4 Unique Values)\n",
    "    - Candidate_id\n",
    "    - Nama (Buat 4)\n",
    "    - Party_id (Buat 4)\n",
    "- region (33 Unique Values)\n",
    "    - region_id\n",
    "    - nama_wilayah\n",
    "- Electoral Vote ← Voters (dibuat dari yang menang masing-masing)\n",
    "    - Wilayah (Ada 33)\n",
    "    - Vote Count\n",
    "    - Candidate_name\n",
    "    - Party\n",
    "- Party\n",
    "    - party_id\n",
    "    - party_name\n",
    "    - member_count"
   ]
  },
  {
   "cell_type": "code",
   "execution_count": null,
   "metadata": {},
   "outputs": [],
   "source": [
    "import pandas as pd\n",
    "import random\n",
    "from helper.data_generate import generate_person"
   ]
  },
  {
   "cell_type": "markdown",
   "metadata": {},
   "source": [
    "**Region** "
   ]
  },
  {
   "cell_type": "code",
   "execution_count": null,
   "metadata": {},
   "outputs": [],
   "source": [
    "region_df = pd.read_csv('sources/regions_id.csv')\n",
    "region_df = region_df.reset_index().rename(columns={\"index\": \"id\"})\n",
    "\n",
    "region_df.rename(columns={\"Provinsi di Indonesia\":\"province\",\n",
    "                          \"Jumlah Penduduk Menurut Provinsi di Indonesia (Ribu Jiwa)\":\"population_count_in_thousands\"},\n",
    "                 inplace=True)\n",
    "\n",
    "region_df = region_df[~region_df[\"province\"].isin([\"Indonesia\"])]\n",
    "region_df['id'] = region_df['id'] + 1"
   ]
  },
  {
   "cell_type": "code",
   "execution_count": null,
   "metadata": {},
   "outputs": [],
   "source": [
    "region_df"
   ]
  },
  {
   "cell_type": "markdown",
   "metadata": {},
   "source": [
    "**Party** "
   ]
  },
  {
   "cell_type": "code",
   "execution_count": null,
   "metadata": {},
   "outputs": [],
   "source": [
    "party_names = [\"Partai Sosial Demokrasi Indonesia\", \"Partai Republik Nasionalis Nusantara\", \"Partai Amanat Indonesia\", \"Partai Kerjasama dan Utusan Rakyat\"]\n",
    "party_list = []\n",
    "id = 1\n",
    "\n",
    "for i in party_names:\n",
    "    party = {}\n",
    "    party[\"id\"] = id\n",
    "    id += 1\n",
    "    party[\"party_name\"] = i\n",
    "    party[\"total_members\"] = random.randint(1500, 5000)\n",
    "\n",
    "    party_list.append(party)"
   ]
  },
  {
   "cell_type": "code",
   "execution_count": null,
   "metadata": {},
   "outputs": [],
   "source": [
    "party_df = pd.DataFrame(party_list)"
   ]
  },
  {
   "cell_type": "code",
   "execution_count": null,
   "metadata": {},
   "outputs": [],
   "source": [
    "party_df"
   ]
  },
  {
   "cell_type": "markdown",
   "metadata": {},
   "source": [
    "**Candidate** "
   ]
  },
  {
   "cell_type": "code",
   "execution_count": null,
   "metadata": {},
   "outputs": [],
   "source": [
    "generate_person()"
   ]
  },
  {
   "cell_type": "code",
   "execution_count": null,
   "metadata": {},
   "outputs": [],
   "source": [
    "candidates = []\n",
    "\n",
    "for i in party_df[\"id\"]:\n",
    "    candidate = {}\n",
    "    person = generate_person()\n",
    "\n",
    "    candidate['id'] = i\n",
    "    candidate['name'] = person['name']['first'] + ' ' + person['name']['last']\n",
    "    candidate['gender'] = person['gender']\n",
    "    candidate['party_id'] = i\n",
    "\n",
    "    candidates.append(candidate)\n",
    "\n",
    "candidates_df = pd.DataFrame(candidates) "
   ]
  },
  {
   "cell_type": "code",
   "execution_count": null,
   "metadata": {},
   "outputs": [],
   "source": [
    "candidates_df"
   ]
  },
  {
   "cell_type": "markdown",
   "metadata": {},
   "source": [
    "**Voters** "
   ]
  },
  {
   "cell_type": "code",
   "execution_count": null,
   "metadata": {},
   "outputs": [],
   "source": [
    "voters_csv_df = pd.read_csv(\"csv/voters.csv\")\n",
    "voters_csv_df.drop(columns=['Unnamed: 0'], inplace=True)"
   ]
  },
  {
   "cell_type": "code",
   "execution_count": null,
   "metadata": {},
   "outputs": [],
   "source": [
    "voters_csv_df"
   ]
  },
  {
   "cell_type": "code",
   "execution_count": null,
   "metadata": {},
   "outputs": [],
   "source": [
    "voters = []\n",
    "\n",
    "def generate_voter():\n",
    "    person = generate_person()\n",
    "    voter = {}\n",
    "\n",
    "    voter['name'] = person['name']['first'] + ' ' + person['name']['last']\n",
    "    voter['gender'] = person['gender']\n",
    "    voter['candidate_id'] = random.choice(candidates_df['id'].tolist())\n",
    "    voter['region_id'] = random.choice(region_df['id'].tolist())\n",
    "\n",
    "    print(voter)\n",
    "    return voter\n"
   ]
  },
  {
   "cell_type": "code",
   "execution_count": null,
   "metadata": {},
   "outputs": [],
   "source": [
    "for x in range(7):\n",
    "    for i in range(250):\n",
    "        print(str(i) + \" \" + str(x))\n",
    "        voter = generate_voter()\n",
    "        voters.append(voter)"
   ]
  },
  {
   "cell_type": "code",
   "execution_count": null,
   "metadata": {},
   "outputs": [],
   "source": [
    "voters_df = pd.DataFrame(voters)"
   ]
  },
  {
   "cell_type": "code",
   "execution_count": null,
   "metadata": {},
   "outputs": [],
   "source": [
    "voters_csv_df = pd.concat([voters_csv_df, voters_df], ignore_index=True)\n",
    "voters_csv_df = voters_csv_df.drop_duplicates()\n",
    "voters_csv_df.rename(columns={\n",
    "    'vote': 'candidate_id'\n",
    "}, inplace=True)\n",
    "\n",
    "voters_csv_df.to_csv(\"csv/voters.csv\")"
   ]
  },
  {
   "cell_type": "code",
   "execution_count": null,
   "metadata": {},
   "outputs": [],
   "source": [
    "# import numpy as np\n",
    "\n",
    "# voters_csv_df['vote'] = np.random.randint(1, max(candidates_df['id']) + 1, size=len(voters_csv_df))\n",
    "# voters_csv_df['region_id'] = np.random.randint(1, max(region_df['id']) + 1, size=len(voters_csv_df))"
   ]
  },
  {
   "cell_type": "code",
   "execution_count": null,
   "metadata": {},
   "outputs": [],
   "source": [
    "voters_csv_df"
   ]
  },
  {
   "cell_type": "markdown",
   "metadata": {},
   "source": [
    "**Electoral** "
   ]
  },
  {
   "cell_type": "code",
   "execution_count": null,
   "metadata": {},
   "outputs": [],
   "source": [
    "votes_with_candidates = pd.merge(voters_csv_df, candidates_df[['id', 'name', 'party_id']], left_on='candidate_id', right_on='id', how='inner')\n",
    "\n",
    "votes_with_region = pd.merge(votes_with_candidates, region_df[['id', 'province']], left_on='region_id', right_on='id', how='inner')\n",
    "\n",
    "votes_cleansed = pd.merge(votes_with_region, party_df[['id','party_name']], left_on='party_id', right_on='id', how='inner')\n",
    "\n",
    "votes_cleansed.drop(columns=['id_x','id_y','id'], inplace=True)\n",
    "\n",
    "votes_cleansed.rename(columns={'name_x': 'voter_name', 'name_y':'candidate_name', 'vote':'candidate_id'}, inplace=True)\n",
    "\n",
    "votes_cleansed"
   ]
  },
  {
   "cell_type": "code",
   "execution_count": null,
   "metadata": {},
   "outputs": [],
   "source": [
    "# Result total pemenang\n",
    "votes_cleansed.groupby('candidate_name').agg({\n",
    "    'voter_name':'count'\n",
    "})"
   ]
  },
  {
   "cell_type": "code",
   "execution_count": null,
   "metadata": {},
   "outputs": [],
   "source": [
    "votes_cleansed.to_csv('csv/votes_cleansed.csv')"
   ]
  },
  {
   "cell_type": "code",
   "execution_count": null,
   "metadata": {},
   "outputs": [],
   "source": [
    "# Data detail untuk masing-masing provinsi\n",
    "details_province = votes_cleansed.groupby(['province', 'candidate_name']).agg({\n",
    "    'voter_name': ['count']\n",
    "})\n",
    "\n",
    "details_province.rename(columns={'voter_name': 'vote_count'}, inplace=True)\n",
    "details_province.columns = details_province.columns.droplevel(1)\n",
    "details_province.reset_index()\n",
    "\n",
    "details_province"
   ]
  },
  {
   "cell_type": "code",
   "execution_count": null,
   "metadata": {},
   "outputs": [],
   "source": [
    "# Data pememenang setiap provinsi\n",
    "winners = details_province.groupby('province')['vote_count'].idxmax()\n",
    "winning_candidates = details_province.loc[winners].reset_index()\n",
    "winning_candidates.to_csv('csv/regional_results.csv')\n",
    "\n",
    "winning_candidates"
   ]
  },
  {
   "cell_type": "code",
   "execution_count": null,
   "metadata": {},
   "outputs": [],
   "source": [
    "# Result total pemenang\n",
    "winning_candidates.groupby('candidate_name').agg({\n",
    "    'province':'count'\n",
    "})"
   ]
  }
 ],
 "metadata": {
  "kernelspec": {
   "display_name": "venv",
   "language": "python",
   "name": "python3"
  },
  "language_info": {
   "codemirror_mode": {
    "name": "ipython",
    "version": 3
   },
   "file_extension": ".py",
   "mimetype": "text/x-python",
   "name": "python",
   "nbconvert_exporter": "python",
   "pygments_lexer": "ipython3",
   "version": "3.13.2"
  }
 },
 "nbformat": 4,
 "nbformat_minor": 2
}
